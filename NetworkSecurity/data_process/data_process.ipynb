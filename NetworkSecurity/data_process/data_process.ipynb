{
 "cells": [
  {
   "cell_type": "code",
   "execution_count": 18,
   "metadata": {
    "collapsed": false
   },
   "outputs": [
    {
     "name": "stderr",
     "output_type": "stream",
     "text": [
      "D:\\Anaconda2\\lib\\site-packages\\ipykernel\\__main__.py:16: UnicodeWarning: Unicode equal comparison failed to convert both arguments to Unicode - interpreting them as being unequal\n"
     ]
    }
   ],
   "source": [
    "from wordcloud import WordCloud\n",
    "import matplotlib.pyplot as plt\n",
    "from nltk.corpus import stopwords\n",
    "import string\n",
    "\n",
    "    \n",
    "\n",
    "def del_punk(filename=None):\n",
    "    stop = stopwords.words('english')\n",
    "    punc = string.punctuation\n",
    "    with open(filename, 'r') as f:\n",
    "        docs = f.readlines()\n",
    "    new_doc = []\n",
    "    for line in docs:\n",
    "        new_line = []\n",
    "        for w in line.strip().split():\n",
    "            if w in stop or w in punc:\n",
    "                continue\n",
    "            new_line.append(w)\n",
    "        new_doc.append(' '.join(new_line))\n",
    "    return '\\n'.join(new_doc)\n",
    "\n",
    "# with open('token_neg', 'r') as f:\n",
    "#     pos_text = f.read()\n",
    "pos_text = del_punk('token_pos')\n",
    "neg_text = del_punk('token_neg')\n",
    "\n",
    "wordcloud1 = WordCloud().generate(pos_text)\n",
    "wordcloud2 = WordCloud().generate(neg_text)\n",
    "plt.figure()\n",
    "plt.imshow(wordcloud1, interpolation='bilinear')\n",
    "plt.figure()\n",
    "plt.imshow(wordcloud2, interpolation='bilinear')\n",
    "plt.axis('off')\n",
    "plt.show()"
   ]
  },
  {
   "cell_type": "code",
   "execution_count": 2,
   "metadata": {
    "collapsed": false
   },
   "outputs": [],
   "source": [
    "from process import chi2feature\n",
    "\n",
    "scores_dict = chi2feature()"
   ]
  },
  {
   "cell_type": "code",
   "execution_count": 5,
   "metadata": {
    "collapsed": false
   },
   "outputs": [],
   "source": [
    "scores = scores_dict.items()\n",
    "sort_scores = sorted(scores, key=lambda x: -x[1])\n"
   ]
  },
  {
   "cell_type": "code",
   "execution_count": 12,
   "metadata": {
    "collapsed": false
   },
   "outputs": [],
   "source": [
    "import pandas as pd\n",
    "words = [sort_scores[i][0] for i in range(len(sort_scores))]\n",
    "scores = [sort_scores[i][1] for i in range(len(sort_scores))]\n",
    "data = {'words': words, 'scores':scores}\n",
    "df = pd.DataFrame(data, columns=['words', 'scores'])"
   ]
  },
  {
   "cell_type": "code",
   "execution_count": 21,
   "metadata": {
    "collapsed": false,
    "scrolled": true
   },
   "outputs": [],
   "source": [
    "import matplotlib.pyplot as plt\n",
    "df.columns\n",
    "show_words = df.set_index('words')\n",
    "show_words[:20].plot(kind='bar')\n",
    "plt.show()"
   ]
  },
  {
   "cell_type": "code",
   "execution_count": 28,
   "metadata": {
    "collapsed": false
   },
   "outputs": [
    {
     "name": "stderr",
     "output_type": "stream",
     "text": [
      "D:\\Anaconda2\\lib\\site-packages\\ipykernel\\__main__.py:15: UnicodeWarning: Unicode equal comparison failed to convert both arguments to Unicode - interpreting them as being unequal\n"
     ]
    }
   ],
   "source": [
    "from nltk.corpus import stopwords\n",
    "import string\n",
    "\n",
    "choose_word_dict = dict(sort_scores[:3000])\n",
    "\n",
    "def del_punk(filename=None):\n",
    "    stop = stopwords.words('english')\n",
    "    punc = string.punctuation\n",
    "    with open(filename, 'r') as f:\n",
    "        docs = f.readlines()\n",
    "    new_doc = []\n",
    "    for line in docs:\n",
    "        new_line = []\n",
    "        for w in line.strip().split():\n",
    "            if w in stop or w in punc:\n",
    "                continue\n",
    "            new_line.append(w)\n",
    "        new_doc.append(' '.join(new_line))\n",
    "    return '\\n'.join(new_doc)\n",
    "\n",
    "# with open('token_neg', 'r') as f:\n",
    "#     pos_text = f.read()\n",
    "pos_text = del_punk('token_pos')\n",
    "neg_text = del_punk('token_neg')\n",
    "from wordcloud import WordCloud\n",
    "wordcloud1 = WordCloud().generate(pos_text)\n",
    "wordcloud2 = WordCloud().generate(neg_text)\n",
    "plt.figure()\n",
    "plt.imshow(wordcloud1, interpolation='bilinear')\n",
    "plt.figure()\n",
    "plt.imshow(wordcloud2, interpolation='bilinear')\n",
    "plt.axis('off')\n",
    "plt.show()\n",
    "\n"
   ]
  },
  {
   "cell_type": "code",
   "execution_count": 34,
   "metadata": {
    "collapsed": false
   },
   "outputs": [],
   "source": [
    "# pos\n",
    "new_doc_neg = []\n",
    "for line in neg_text.split('\\n'):\n",
    "    new_line = []\n",
    "    for w in line.split():\n",
    "        if w in choose_word_dict:\n",
    "            new_line.append(w)\n",
    "        new_doc_neg.append(' '.join(new_line))\n",
    "new_doc_neg = '\\n'.join(new_doc_neg)\n",
    "new_cloud_neg = WordCloud().generate(new_doc_neg)\n",
    "plt.figure()\n",
    "plt.imshow(new_cloud_neg, interpolation='bilinear')\n",
    "plt.axis('off')\n",
    "plt.show()"
   ]
  }
 ],
 "metadata": {
  "kernelspec": {
   "display_name": "Python 2",
   "language": "python",
   "name": "python2"
  },
  "language_info": {
   "codemirror_mode": {
    "name": "ipython",
    "version": 2
   },
   "file_extension": ".py",
   "mimetype": "text/x-python",
   "name": "python",
   "nbconvert_exporter": "python",
   "pygments_lexer": "ipython2",
   "version": "2.7.12"
  }
 },
 "nbformat": 4,
 "nbformat_minor": 0
}
